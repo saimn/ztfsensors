{
 "cells": [
  {
   "cell_type": "code",
   "execution_count": null,
   "id": "39090d44-b658-4855-8b3d-2e93fa8cbcd6",
   "metadata": {},
   "outputs": [],
   "source": [
    "%matplotlib inline\n",
    "\n",
    "import matplotlib.pyplot as plt\n",
    "import numpy as np\n",
    "import ztfimg\n",
    "import ztfsensors\n",
    "from ztfsensors import correct, pocket\n",
    "from astropy.visualization import ZScaleInterval"
   ]
  },
  {
   "cell_type": "code",
   "execution_count": null,
   "id": "b8a56962-b64d-497d-8e40-12d9c8d4a154",
   "metadata": {},
   "outputs": [],
   "source": [
    "# Access the raw quadrant    \n",
    "rawimg = ztfimg.RawCCD.from_filename(\"ztf_20200401152477_000517_zg_c06_o.fits.fz\", as_path=False)\n",
    "quad = rawimg.get_quadrant(3)\n",
    "pixels = quad.get_data_and_overscan()\n",
    "pixels.shape"
   ]
  },
  {
   "cell_type": "code",
   "execution_count": null,
   "id": "f3381756-53e5-4cbe-b07c-219af0ca5db1",
   "metadata": {},
   "outputs": [],
   "source": [
    "config = pocket.get_config(quad.ccdid, quad.qid).iloc[0]\n",
    "model = pocket.PocketModel(**config)\n",
    "\n",
    "corrected_pixels_and_overscan = correct.correct_pixels(model, pixels, n_overscan=30)\n",
    "corrected_pixels_and_overscan.shape"
   ]
  },
  {
   "cell_type": "code",
   "execution_count": null,
   "id": "204e126d-344d-46f6-86cd-2c35586563b9",
   "metadata": {},
   "outputs": [],
   "source": [
    "fig, (ax1,ax2,ax3) = plt.subplots(1,3, figsize=(3*6, 6))\n",
    "vmin, vmax = ZScaleInterval().get_limits(pixels)\n",
    "kw = dict(origin=\"lower\", interpolation=\"none\")\n",
    "sl = np.s_[1000:1500, 1300:1800]\n",
    "ax1.imshow(pixels[sl], vmin=vmin, vmax=vmax, **kw)\n",
    "ax2.imshow(corrected_pixels_and_overscan[sl], vmin=vmin, vmax=vmax, **kw)\n",
    "ax3.imshow(corrected_pixels_and_overscan[sl]-pixels[sl], vmin=-10, vmax=10, **kw);"
   ]
  },
  {
   "cell_type": "code",
   "execution_count": null,
   "id": "d0a9ab5d-86ee-4e33-9082-a199dca257af",
   "metadata": {},
   "outputs": [],
   "source": []
  }
 ],
 "metadata": {
  "kernelspec": {
   "display_name": "ztf",
   "language": "python",
   "name": "ztf"
  },
  "language_info": {
   "codemirror_mode": {
    "name": "ipython",
    "version": 3
   },
   "file_extension": ".py",
   "mimetype": "text/x-python",
   "name": "python",
   "nbconvert_exporter": "python",
   "pygments_lexer": "ipython3",
   "version": "3.12.2"
  }
 },
 "nbformat": 4,
 "nbformat_minor": 5
}
